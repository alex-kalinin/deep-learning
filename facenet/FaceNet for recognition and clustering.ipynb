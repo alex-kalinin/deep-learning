{
 "cells": [
  {
   "cell_type": "code",
   "execution_count": 1,
   "metadata": {
    "collapsed": false
   },
   "outputs": [
    {
     "data": {
      "text/html": [
       "\n",
       "<style>\n",
       "\n",
       "div.text_cell_render { /* Customize text cells */\n",
       "\n",
       "font-size:1.1em;\n",
       "line-height:1.4em;\n",
       "\n",
       "}\n",
       "</style>\n"
      ],
      "text/plain": [
       "<IPython.core.display.HTML object>"
      ]
     },
     "execution_count": 1,
     "metadata": {},
     "output_type": "execute_result"
    }
   ],
   "source": [
    "from IPython.core.display import HTML\n",
    "HTML(\"\"\"\n",
    "<style>\n",
    "\n",
    "div.text_cell_render { /* Customize text cells */\n",
    "\n",
    "font-size:1.1em;\n",
    "line-height:1.4em;\n",
    "\n",
    "}\n",
    "</style>\n",
    "\"\"\")"
   ]
  },
  {
   "cell_type": "code",
   "execution_count": 2,
   "metadata": {
    "collapsed": true
   },
   "outputs": [],
   "source": [
    "%matplotlib inline\n",
    "import tensorflow as tf\n",
    "import numpy as np\n",
    "import matplotlib.pyplot as plt\n",
    "import matplotlib.image as mpimg\n",
    "import cv2\n",
    "import dlib\n",
    "import os, pickle"
   ]
  },
  {
   "cell_type": "markdown",
   "metadata": {},
   "source": [
    "## Steps\n",
    "\n",
    "1. Detect face using Dlib frontal face detector\n",
    "- Align, i.e. rotate and scale the face to 160x160\n",
    "- Run FaceNet on the resulting face to get a 128-d embedding\n",
    "- Use PCA and LDA to demontrate resulting clusters."
   ]
  },
  {
   "cell_type": "code",
   "execution_count": 3,
   "metadata": {
    "collapsed": false
   },
   "outputs": [],
   "source": [
    "downloads_path = os.path.expanduser('~/Downloads')"
   ]
  },
  {
   "cell_type": "markdown",
   "metadata": {},
   "source": [
    "## Face detection"
   ]
  },
  {
   "cell_type": "code",
   "execution_count": 4,
   "metadata": {
    "collapsed": false
   },
   "outputs": [],
   "source": [
    "from align.align_dlib import AlignDlib\n",
    "align = AlignDlib('models/dlib/shape_predictor_68_face_landmarks.dat')\n",
    "detector = dlib.get_frontal_face_detector()\n",
    "\n",
    "def detect_face_dlib(path):\n",
    "    image = mpimg.imread(path)\n",
    "    bbs = detector(image, 1)\n",
    "    tuples = []\n",
    "    for r in bbs:\n",
    "        tuples.append((r.left(), r.top(), r.right(), r.bottom()))\n",
    "    return tuples, image"
   ]
  },
  {
   "cell_type": "code",
   "execution_count": 5,
   "metadata": {
    "collapsed": false
   },
   "outputs": [],
   "source": [
    "_face_cascade = cv2.CascadeClassifier('cascades/haarcascade_frontalface_default.xml')\n",
    "\n",
    "def detect_face_haar(path):\n",
    "    image = mpimg.imread(path)\n",
    "    gray = cv2.cvtColor(image, cv2.COLOR_RGB2GRAY)\n",
    "    bbs = _face_cascade.detectMultiScale(image, scaleFactor=1.25, \n",
    "                                 minNeighbors=3, \n",
    "                                 minSize=(20, 20), \n",
    "                                 flags = cv2.CASCADE_SCALE_IMAGE)\n",
    "    tuples = [tuple(rect) for rect in bbs]\n",
    "    return tuples, image"
   ]
  },
  {
   "cell_type": "code",
   "execution_count": 6,
   "metadata": {
    "collapsed": false
   },
   "outputs": [],
   "source": [
    "EXPECT_SIZE = 160\n",
    "\n",
    "def align_face(image, face_box):\n",
    "    landmarks = align.findLandmarks(image, face_box)\n",
    "    alignedFace = align.align(EXPECT_SIZE, image, face_box, \n",
    "                              landmarks=landmarks,\n",
    "                              landmarkIndices=AlignDlib.OUTER_EYES_AND_NOSE)\n",
    "    return alignedFace"
   ]
  },
  {
   "cell_type": "code",
   "execution_count": 7,
   "metadata": {
    "collapsed": false
   },
   "outputs": [],
   "source": [
    "import os\n",
    "\n",
    "def box_all_faces(face_detect_proc, outdir):\n",
    "    dir = downloads_path + '/lfw'\n",
    "\n",
    "    if outdir:\n",
    "        os.makedirs(outdir, exist_ok=True)\n",
    "\n",
    "    for person_name in os.listdir(dir):\n",
    "        person_dir = dir + '/' + person_name\n",
    "        if os.path.isdir(person_dir):\n",
    "            for fname in os.listdir(person_dir):\n",
    "                image_path = person_dir + '/' + fname\n",
    "                rects, image = face_detect_proc(image_path)\n",
    "                for left, top, right, bottom in rects:\n",
    "                    cv2.rectangle(image, (left, top), (right, bottom), (0, 255, 0), 2)\n",
    "                if outdir:\n",
    "                    cv2.imwrite(outdir + '/' + fname, cv2.cvtColor(image, cv2.COLOR_RGB2BGR))"
   ]
  },
  {
   "cell_type": "markdown",
   "metadata": {},
   "source": [
    "Detect faces and write them to a separate directory. Time it. We'll compare the speed of Haar cascades and Dlib face detection.\n",
    "\n",
    "### Haar Cascade"
   ]
  },
  {
   "cell_type": "code",
   "execution_count": 8,
   "metadata": {
    "collapsed": false
   },
   "outputs": [],
   "source": [
    "# %time box_all_faces(detect_face_haar, None)"
   ]
  },
  {
   "cell_type": "markdown",
   "metadata": {},
   "source": [
    "### Dlib face detector"
   ]
  },
  {
   "cell_type": "code",
   "execution_count": 9,
   "metadata": {
    "collapsed": false
   },
   "outputs": [],
   "source": [
    "# %time box_all_faces(detect_face_dlib, downloads_path + '/lfw_dlib')"
   ]
  },
  {
   "cell_type": "markdown",
   "metadata": {},
   "source": [
    "## FaceNet application"
   ]
  },
  {
   "cell_type": "code",
   "execution_count": 10,
   "metadata": {
    "collapsed": true
   },
   "outputs": [],
   "source": [
    "from os import path\n",
    "\n",
    "def load_model(model_meta, model_content):\n",
    "    s = tf.InteractiveSession()\n",
    "    saver = tf.train.import_meta_graph(model_meta)\n",
    "    saver.restore(s, model_content)\n",
    "    tf.get_default_graph().as_graph_def()\n",
    "    return s"
   ]
  },
  {
   "cell_type": "code",
   "execution_count": 12,
   "metadata": {
    "collapsed": false
   },
   "outputs": [],
   "source": [
    "session = load_model('models/20170216-091149/model-20170216-091149.meta', \n",
    "                     'models/20170216-091149/model-20170216-091149.ckpt-250000')"
   ]
  },
  {
   "cell_type": "code",
   "execution_count": 13,
   "metadata": {
    "collapsed": true
   },
   "outputs": [],
   "source": [
    "graph = tf.get_default_graph()\n",
    "image_batch = graph.get_tensor_by_name(\"input:0\")\n",
    "phase_train_placeholder = graph.get_tensor_by_name(\"phase_train:0\")\n",
    "embeddings = graph.get_tensor_by_name(\"embeddings:0\")"
   ]
  },
  {
   "cell_type": "code",
   "execution_count": 14,
   "metadata": {
    "collapsed": false
   },
   "outputs": [],
   "source": [
    "def rep_for_image_path(session, image_path):\n",
    "    global image_batch, phase_train_placeholder, embeddings\n",
    "    \n",
    "    tuples, face_orig = detect_face(image_path)\n",
    "    if len(rects) > 0:\n",
    "        face = align_face(face_orig, rects[0])\n",
    "        feed_dict = { \n",
    "            image_batch: np.expand_dims(face, 0), \n",
    "            phase_train_placeholder: False }\n",
    "    \n",
    "        rep = session.run(embeddings, feed_dict=feed_dict)\n",
    "    else:\n",
    "        rep = None\n",
    "    return rep"
   ]
  },
  {
   "cell_type": "code",
   "execution_count": 15,
   "metadata": {
    "collapsed": false
   },
   "outputs": [],
   "source": [
    "def reps_for_person(dir_name):\n",
    "    all = []\n",
    "    file_names = []\n",
    "\n",
    "    for fname in os.listdir(dir_name):\n",
    "        rep = rep_for_image_path(session, dir_name + '/' + fname)\n",
    "        if rep is not None:\n",
    "            all.append(rep[0])\n",
    "            file_names.append(fname)\n",
    "    return np.array(all), file_names\n",
    "\n",
    "def load_people_faces(dir_path, person_paths):\n",
    "    assert isinstance(person_paths, list)\n",
    "    result = []\n",
    "    all_file_names = []\n",
    "    for person_path in person_paths:\n",
    "        full_path = dir_path + '/' + person_path\n",
    "        reps, file_names = reps_for_person(full_path)\n",
    "        result.append(reps)\n",
    "        all_file_names.append(file_names)\n",
    "    return np.array(result), all_file_names"
   ]
  },
  {
   "cell_type": "markdown",
   "metadata": {},
   "source": [
    "## Display "
   ]
  },
  {
   "cell_type": "code",
   "execution_count": 16,
   "metadata": {
    "collapsed": false
   },
   "outputs": [],
   "source": [
    "from sklearn.decomposition import PCA\n",
    "from sklearn.discriminant_analysis import LinearDiscriminantAnalysis\n",
    "import numpy as np\n",
    "\n",
    "def face_pca(rep, classes):\n",
    "    n_components = 2\n",
    "    rep_normalized = rep\n",
    "    pca = LinearDiscriminantAnalysis(solver='eigen', n_components=n_components)\n",
    "    result = pca.fit(rep_normalized, classes).transform(rep_normalized)\n",
    "    print ('explained variance (first %d components): %.2f'%(n_components, sum(pca.explained_variance_ratio_)))\n",
    "    return result"
   ]
  },
  {
   "cell_type": "code",
   "execution_count": 17,
   "metadata": {
    "collapsed": false
   },
   "outputs": [],
   "source": [
    "def split_matrix_to_people_list(people, people_matrix):\n",
    "    prev = 0\n",
    "    pca_list = []\n",
    "    for p in people:\n",
    "        pca_result = people_matrix[prev:prev+p.shape[0]]\n",
    "        pca_list.append(pca_result)\n",
    "        prev = p.shape[0]\n",
    "    return pca_list\n",
    "\n",
    "def compress_to_2d(people):\n",
    "    all, classes = people_to_classes(people)\n",
    "    pca_combined = face_pca(all, classes)\n",
    "    return split_matrix_to_people_list(people, pca_combined)\n",
    "\n",
    "def people_to_classes(people):\n",
    "    all = np.concatenate(tuple(people))\n",
    "    classes = []\n",
    "    prev = 0\n",
    "    for class_id, p in enumerate(people):\n",
    "        length = p.shape[0]\n",
    "        this_class = np.empty(length).astype(np.int)\n",
    "        this_class[:] = int(class_id)\n",
    "        classes.extend(this_class)\n",
    "    return all, np.array(classes)"
   ]
  },
  {
   "cell_type": "markdown",
   "metadata": {},
   "source": [
    "## LDA"
   ]
  },
  {
   "cell_type": "code",
   "execution_count": null,
   "metadata": {
    "collapsed": true
   },
   "outputs": [],
   "source": [
    "people, _ = load_people_faces(downloads_path + '/lfw', \n",
    "                           ['Bill_Gates', \n",
    "                            'Britney_Spears', \n",
    "                           ])"
   ]
  },
  {
   "cell_type": "code",
   "execution_count": null,
   "metadata": {
    "collapsed": false
   },
   "outputs": [],
   "source": [
    "X, classes = people_to_classes(people)\n",
    "classes"
   ]
  },
  {
   "cell_type": "code",
   "execution_count": null,
   "metadata": {
    "collapsed": false
   },
   "outputs": [],
   "source": [
    "lda = LinearDiscriminantAnalysis(n_components=2, solver='eigen', shrinkage='auto')\n",
    "p = PCA(n_components=2)\n",
    "people_lda = lda.fit(X, classes).transform(X)\n",
    "people_pca = pca.fit(X).transform(X)\n",
    "print(X.shape, classes.shape, people_pca.shape)"
   ]
  },
  {
   "cell_type": "markdown",
   "metadata": {},
   "source": [
    "Use of LDA requies both `solver='eigen'` and `shrinkage='auto'`. Need to investigate why."
   ]
  },
  {
   "cell_type": "code",
   "execution_count": 21,
   "metadata": {
    "collapsed": false
   },
   "outputs": [],
   "source": [
    "def draw_pca_result(people, people_pca, names):\n",
    "    people_2d = split_matrix_to_people_list(people, people_pca)\n",
    "    colors = cm.rainbow(np.linspace(0, 1, len(people_2d)))\n",
    "   \n",
    "    plt.figure(dpi=150)\n",
    "    plt.xticks([])\n",
    "    plt.yticks([])\n",
    "    plots = []\n",
    "    for p, color in zip(people_2d, colors):\n",
    "        x, y = tuple(np.split(p, 2, axis=1))\n",
    "        plots.append(plt.scatter(x, y, color=color))\n",
    "    \n",
    "#     plt.legend(plots, names, loc='best', shadow=False, scatterpoints=1)"
   ]
  },
  {
   "cell_type": "markdown",
   "metadata": {},
   "source": [
    "We cannot blindly apply PCA. It will pick dimensions with max total variance. However, the variance of one person may dominate. We may not see a clean separation. We need to choose the projection that best separates different people.\n",
    "\n",
    "How to do it. Consolidate each person to a single vector: center of mass. Project the resulting two vectors. Use that projection to depict the original vectors.\n",
    "\n",
    "SOLUTION: use Linear Discriminant Analysis."
   ]
  },
  {
   "cell_type": "markdown",
   "metadata": {},
   "source": [
    "## Full pipeline"
   ]
  },
  {
   "cell_type": "code",
   "execution_count": 18,
   "metadata": {
    "collapsed": false
   },
   "outputs": [],
   "source": [
    "import matplotlib.cm as cm\n",
    "\n",
    "def main():\n",
    "    people = load_people_faces(downloads_path + '/lfw-deepfunneled', ['Bill_Gates', 'Serena_Williams'])\n",
    "    lda = LinearDiscriminantAnalysis(n_components=2, solver='eigen', shrinkage='auto')\n",
    "    people_lda = lda.fit(X, classes).transform(X)\n",
    "#     p = PCA(n_components=2)\n",
    "#     people_pca = pca.fit(X).transform(X)\n",
    "    print(X.shape, classes.shape, people_pca.shape)\n",
    "    draw_pca_result(people, people_lda)"
   ]
  },
  {
   "cell_type": "code",
   "execution_count": 19,
   "metadata": {
    "collapsed": false
   },
   "outputs": [],
   "source": [
    "import matplotlib.cm as cm\n",
    "\n",
    "def load_people_from_dict(people_names):\n",
    "    with open(downloads_path + '/lfw/face_vecs-lfw.pickle', 'rb') as f:\n",
    "        faces_dict = pickle.load(f)\n",
    "    vecs = []\n",
    "    names = []\n",
    "    for name in people_names:\n",
    "        vecs.append(faces_dict[name]['reps'])\n",
    "        names.append(faces_dict[name]['names'])\n",
    "    return np.array(vecs), names\n",
    "\n",
    "def cluster_lfw(names, cluster_with=LinearDiscriminantAnalysis(n_components=2, solver='eigen', shrinkage='auto')):\n",
    "    people, _ = load_people_from_dict(names)\n",
    "    X, classes = people_to_classes(people)\n",
    "    people_lda = cluster_with\\\n",
    "        .fit(X, classes)\\\n",
    "        .transform(X)\n",
    "    draw_pca_result(people, people_lda, names)"
   ]
  },
  {
   "cell_type": "code",
   "execution_count": 22,
   "metadata": {
    "collapsed": false
   },
   "outputs": [
    {
     "data": {
      "image/png": "[encoded data removed]",
      "text/plain": [
       "<matplotlib.figure.Figure at 0x12b95c5f8>"
      ]
     },
     "metadata": {},
     "output_type": "display_data"
    }
   ],
   "source": [
    "cluster_lfw(['Bill_Gates', 'Britney_Spears'])"
   ]
  },
  {
   "cell_type": "code",
   "execution_count": 23,
   "metadata": {
    "collapsed": false
   },
   "outputs": [
    {
     "data": {
      "image/png": "[encoded data removed]",
      "text/plain": [
       "<matplotlib.figure.Figure at 0x12b9da7b8>"
      ]
     },
     "metadata": {},
     "output_type": "display_data"
    }
   ],
   "source": [
    "cluster_lfw(['Bill_Gates', 'Britney_Spears'], PCA(n_components=2))"
   ]
  },
  {
   "cell_type": "code",
   "execution_count": 24,
   "metadata": {
    "collapsed": false
   },
   "outputs": [
    {
     "data": {
      "image/png": "[encoded data removed]",
      "text/plain": [
       "<matplotlib.figure.Figure at 0x12bc4d668>"
      ]
     },
     "metadata": {},
     "output_type": "display_data"
    }
   ],
   "source": [
    "cluster_lfw(['Queen_Elizabeth_II', 'Harrison_Ford'])"
   ]
  },
  {
   "cell_type": "markdown",
   "metadata": {},
   "source": [
    "## PCA va LDA for Iris dataset"
   ]
  },
  {
   "cell_type": "code",
   "execution_count": null,
   "metadata": {
    "collapsed": false
   },
   "outputs": [],
   "source": [
    "print(__doc__)\n",
    "\n",
    "import matplotlib.pyplot as plt\n",
    "\n",
    "from sklearn import datasets\n",
    "from sklearn.decomposition import PCA\n",
    "from sklearn.discriminant_analysis import LinearDiscriminantAnalysis\n",
    "\n",
    "iris = datasets.load_iris()\n",
    "\n",
    "X = iris.data\n",
    "y = iris.target\n",
    "\n",
    "y"
   ]
  },
  {
   "cell_type": "code",
   "execution_count": null,
   "metadata": {
    "collapsed": false
   },
   "outputs": [],
   "source": [
    "target_names = iris.target_names\n",
    "\n",
    "pca = PCA(n_components=2)\n",
    "X_r = pca.fit(X).transform(X)\n",
    "\n",
    "lda = LinearDiscriminantAnalysis(n_components=2)\n",
    "X_r2 = lda.fit(X, y).transform(X)\n",
    "\n",
    "X"
   ]
  },
  {
   "cell_type": "code",
   "execution_count": null,
   "metadata": {
    "collapsed": true
   },
   "outputs": [],
   "source": [
    "\n",
    "# Percentage of variance explained for each components\n",
    "print('explained variance ratio (first two components): %s'\n",
    "      % str(pca.explained_variance_ratio_))\n",
    "\n",
    "plt.figure()\n",
    "colors = ['navy', 'turquoise', 'darkorange']\n",
    "lw = 2\n",
    "\n",
    "for color, i, target_name in zip(colors, [0, 1, 2], target_names):\n",
    "    plt.scatter(X_r[y == i, 0], X_r[y == i, 1], color=color, alpha=.8, lw=lw,\n",
    "                label=target_name)\n",
    "plt.legend(loc='best', shadow=False, scatterpoints=1)\n",
    "plt.title('PCA of IRIS dataset')\n",
    "\n",
    "plt.figure()\n",
    "for color, i, target_name in zip(colors, [0, 1, 2], target_names):\n",
    "    plt.scatter(X_r2[y == i, 0], X_r2[y == i, 1], alpha=.8, color=color,\n",
    "                label=target_name)\n",
    "plt.legend(loc='best', shadow=False, scatterpoints=1)\n",
    "plt.title('LDA of IRIS dataset')\n",
    "\n",
    "plt.show()\n"
   ]
  },
  {
   "cell_type": "markdown",
   "metadata": {},
   "source": [
    "# Embeddings for all faces in LFW"
   ]
  },
  {
   "cell_type": "code",
   "execution_count": null,
   "metadata": {
    "collapsed": false
   },
   "outputs": [],
   "source": [
    "from ipywidgets import FloatProgress\n",
    "from IPython.display import display\n",
    "\n",
    "def load_all_faces(root_dir, pickle_file_name):\n",
    "    reps_per_person = {}\n",
    "\n",
    "    pickle_path = root_dir + '/' + pickle_file_name\n",
    "    if os.path.isfile(pickle_path):\n",
    "        with open(pickle_path, 'rb') as f:\n",
    "            reps_per_person = pickle.load(f)\n",
    "            assert isinstance(reps_per_person, dict)\n",
    "    \n",
    "    person_dirs = os.listdir(root_dir)\n",
    "    progress = FloatProgress(min=0, max=len(person_dirs))\n",
    "    display(progress)\n",
    "    \n",
    "    for person_dir in person_dirs:\n",
    "        progress.value += 1\n",
    "#         print(person_dir, os.path.isdir(person_dir))\n",
    "        person_dir_path = root_dir + '/' + person_dir\n",
    "        if os.path.isdir(person_dir_path):\n",
    "            if person_dir not in reps_per_person:\n",
    "                person_face_vecs, all_file_names = load_people_faces(root_dir, [person_dir])\n",
    "                reps = person_face_vecs[0]\n",
    "                file_names = all_file_names[0]\n",
    "    #             print(reps.shape, len(file_names))\n",
    "                assert reps.shape[0] == len(file_names)\n",
    "                reps_per_person[person_dir] = {\n",
    "                    'reps': reps,\n",
    "                    'names': file_names\n",
    "                }\n",
    "                with open(pickle_path, 'wb') as f:\n",
    "                    pickle.dump(reps_per_person, f, 2)       "
   ]
  },
  {
   "cell_type": "code",
   "execution_count": null,
   "metadata": {
    "collapsed": false
   },
   "outputs": [],
   "source": [
    "%time load_all_faces(downloads_path + '/lfw', 'face_vecs-lfw.pickle')"
   ]
  },
  {
   "cell_type": "code",
   "execution_count": null,
   "metadata": {
    "collapsed": false
   },
   "outputs": [],
   "source": [
    "vecs, names = load_people_from_dict(['Bill_Gates'])"
   ]
  },
  {
   "cell_type": "code",
   "execution_count": null,
   "metadata": {
    "collapsed": false
   },
   "outputs": [],
   "source": [
    "vec = vecs[0][names[0].index('Bill_Gates_0015.jpg')]\n",
    "vec = np.round(vec * 100) / 100.\n",
    "vec"
   ]
  },
  {
   "cell_type": "code",
   "execution_count": null,
   "metadata": {
    "collapsed": true
   },
   "outputs": [],
   "source": []
  }
 ],
 "metadata": {
  "kernelspec": {
   "display_name": "Python 3",
   "language": "python",
   "name": "python3"
  },
  "language_info": {
   "codemirror_mode": {
    "name": "ipython",
    "version": 3
   },
   "file_extension": ".py",
   "mimetype": "text/x-python",
   "name": "python",
   "nbconvert_exporter": "python",
   "pygments_lexer": "ipython3",
   "version": "3.5.2"
  }
 },
 "nbformat": 4,
 "nbformat_minor": 2
}
